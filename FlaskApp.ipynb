{
 "cells": [
  {
   "cell_type": "code",
   "execution_count": 1,
   "metadata": {},
   "outputs": [
    {
     "name": "stderr",
     "output_type": "stream",
     "text": [
      "Using TensorFlow backend.\n"
     ]
    }
   ],
   "source": [
    "from flask import Flask, flash , redirect, render_template , request, session, abort , Markup\n",
    "import os\n",
    "import pandas as pd\n",
    "import numpy as np\n",
    "import tensorflow as tf\n",
    "import keras\n",
    "from keras.models import load_model\n",
    "from keras import backend as K\n",
    "from werkzeug import secure_filename\n",
    "import json\n",
    "from scipy.stats import kurtosis, skew\n",
    "import csv\n",
    "from sklearn.model_selection import train_test_split\n",
    "from sklearn.preprocessing import StandardScaler\n",
    "import pickle\n",
    "from werkzeug import secure_filename"
   ]
  },
  {
   "cell_type": "code",
   "execution_count": 2,
   "metadata": {},
   "outputs": [],
   "source": [
    "app = Flask(__name__)\n",
    "app.secret_key = os.urandom(12)\n",
    "\n",
    "dropdown_list = []\n",
    "dropdown_list_2 = []"
   ]
  },
  {
   "cell_type": "code",
   "execution_count": 3,
   "metadata": {},
   "outputs": [],
   "source": [
    "UPLOAD_FOLDER = './Uploads'\n",
    "ALLOWED_EXTENSIONS = set(['csv'])\n",
    "app.config['UPLOAD_FOLDER'] = UPLOAD_FOLDER"
   ]
  },
  {
   "cell_type": "code",
   "execution_count": 4,
   "metadata": {},
   "outputs": [],
   "source": [
    "@app.route('/upload')\n",
    "def upload_file():\n",
    "    dropdown_list.clear()\n",
    "    dropdown_list_2.clear()\n",
    "    return render_template('upload.html')"
   ]
  },
  {
   "cell_type": "code",
   "execution_count": 5,
   "metadata": {},
   "outputs": [],
   "source": [
    "@app.route('/uploader', methods = ['GET', 'POST'])\n",
    "def uploader_file():\n",
    "     if request.method == 'POST':\n",
    "        \n",
    "        if 'file' not in request.files:\n",
    "            flash('No file part')\n",
    "            print('No file part')\n",
    "            return redirect(request.url)\n",
    "        file = request.files['file']\n",
    "        print(file.filename)\n",
    "        if file.filename == '':\n",
    "            flash('No selected file')\n",
    "            print('No selected file')\n",
    "            return redirect(request.url)\n",
    "        if file :\n",
    "            filename = secure_filename(file.filename)\n",
    "            file.save(os.path.join(app.config['UPLOAD_FOLDER'], filename))\n",
    "            fpath = os.path.join(app.config['UPLOAD_FOLDER'], filename)\n",
    "            uploadFileAndPredict(fpath)\n",
    "            with open(fpath) as file:\n",
    "                allRead = csv.reader(file, delimiter=',')\n",
    "                lineCount = 0\n",
    "                for row in allRead:\n",
    "                    if lineCount==0:\n",
    "                        lineCount=lineCount+1\n",
    "                    else:\n",
    "                        lineCount=lineCount+1\n",
    "                        dropdown_list_2.append((row[0]))\n",
    "            return render_template('Result.html',  dropdown_list_2=dropdown_list_2)\n",
    "\n"
   ]
  },
  {
   "cell_type": "code",
   "execution_count": 6,
   "metadata": {},
   "outputs": [],
   "source": [
    "@app.route('/input_percent' , methods = ['GET','POST'])\n",
    "def input_num():\n",
    "    x = request.form[\"in\"]\n",
    "    fpath = os.path.join(\"default\", \"output.csv\")\n",
    "    line = pd.read_csv(fpath).shape[0]\n",
    "    y = round((float(x)*line)/100)\n",
    "    print(line)\n",
    "    print(y)\n",
    "    ls = []\n",
    "    lschurn=[]\n",
    "    with open(fpath) as file:\n",
    "        allRead = csv.reader(file, delimiter=',')\n",
    "        lineCount = 0\n",
    "        for row in allRead:\n",
    "            if lineCount == 0:\n",
    "                lineCount += 1\n",
    "            elif lineCount <= y and lineCount != 0:\n",
    "                ls.append(row[0])\n",
    "                lschurn.append(row[16])\n",
    "                lineCount += 1\n",
    "    lss=list(map(lambda x: float(x*100),list(pd.read_csv(fpath)['Approved'][:y].copy())))  \n",
    "    print(lss)\n",
    "    print(lschurn)\n",
    "    return render_template('Percent.html', outList = ls, value_list=lschurn,values_res=lss )\n"
   ]
  },
  {
   "cell_type": "code",
   "execution_count": 7,
   "metadata": {},
   "outputs": [],
   "source": [
    "@app.route('/check/<string:dropdown>',methods=['POST','GET'])\n",
    "def specific(dropdown):\n",
    "    x = dropdown\n",
    "    x = search_default(x)\n",
    "    #Key,Male,Age,Debt,Married,BankCustomer,EducationLevel,Ethnicity,YearsEmployed,PriorDefault,Employed,\n",
    "    #CreditScore,DriversLicense,Citizen,ZipCode,Income,Approved\n",
    "\n",
    "    key  = x[0]\n",
    "    Male = x[1]\n",
    "    Age = x[2]\n",
    "    Married  = x[3]\n",
    "    Debt = x[4]\n",
    "    BankCustomer  = x[5]\n",
    "    EducationLevel  = x[6]\n",
    "    Ethnicity = x[7]\n",
    "    YearsEmployed  = x[8]\n",
    "    PriorDefault = x[9]\n",
    "    Employed = x[10]\n",
    "    CreditScore = x[11]\n",
    "    Income = x[15]    \n",
    "    x = x[16]\n",
    "    pred= float(x)*100\n",
    "    values = [pred]\n",
    "    x = float(x)*100\n",
    "    x = round(x,2)\n",
    "    \n",
    "    return render_template('Chart.html', key=key, \n",
    "                           Male=Male, Age=Age, Married=Married, Debt=Debt, \n",
    "                           BankCustomer=BankCustomer, EducationLevel=EducationLevel, Ethnicity=Ethnicity,\n",
    "                           YearsEmployed=YearsEmployed, PriorDefault=PriorDefault, \n",
    "                           Employed=Employed, CreditScore = CreditScore,\n",
    "                           Income = Income, values = values,pred=x)"
   ]
  },
  {
   "cell_type": "code",
   "execution_count": 8,
   "metadata": {},
   "outputs": [],
   "source": [
    "def preprocess_data(fileInput):\n",
    "    train = pd.read_csv(fileInput)  \n",
    "    train.replace('?', np.NaN, inplace = True)\n",
    "    train['YearsEmployed'] = [x*100 for x in train['YearsEmployed']]\n",
    "    train['Age'] = train['Age'].astype('float64')\n",
    "    train['Age'].fillna((train['Age'].mean()), inplace=True)\n",
    "    train['Married'] = train['Married'].astype('category')\n",
    "    train['BankCustomer'] = train['BankCustomer'].astype('category')\n",
    "    train['EducationLevel'] = train['EducationLevel'].astype('category')\n",
    "    train['Ethnicity'] = train['Ethnicity'].astype('category')\n",
    "    train['PriorDefault'] = train['PriorDefault'].astype('category')\n",
    "    train['Employed'] = train['Employed'].astype('category')\n",
    "    train['DriversLicense'] = train['DriversLicense'].astype('category')\n",
    "    train['Citizen'] = train['Citizen'].astype('category')\n",
    "\n",
    "    cat_columns = train.select_dtypes(['category']).columns\n",
    "    train[cat_columns] = train[cat_columns].apply(lambda x: x.cat.codes)\n",
    "    train = train.drop(['ZipCode','Male'], axis=1)\n",
    "    X_test = train.iloc[:,1:].values\n",
    "\n",
    "    return X_test\n",
    "    \n",
    "    "
   ]
  },
  {
   "cell_type": "code",
   "execution_count": 9,
   "metadata": {},
   "outputs": [],
   "source": [
    "@app.route('/')\n",
    "def home():\n",
    "        return render_template('upload.html')\n"
   ]
  },
  {
   "cell_type": "code",
   "execution_count": 10,
   "metadata": {},
   "outputs": [],
   "source": [
    "def uploadFileAndPredict(filename):\n",
    "    K.clear_session()\n",
    "    dropdown_list_2.clear()\n",
    "    proceseed_data = preprocess_data(filename)\n",
    "    model = pickle.load(open('LRModel.pkl', 'rb'))\n",
    "    y_pred = model.predict_proba(proceseed_data)\n",
    "    df = pd.read_csv(filename)\n",
    "    df['Approved'] = [x[0] for x in y_pred]\n",
    "    df.set_index('Key', inplace=True)\n",
    "    df.sort_values('Approved', ascending=False, inplace=True)\n",
    "    fpathr = os.path.join(\"default\", \"output.csv\")\n",
    "    df.to_csv(fpathr)  \n",
    "    return y_pred\n",
    "             \n",
    "    "
   ]
  },
  {
   "cell_type": "code",
   "execution_count": 11,
   "metadata": {},
   "outputs": [],
   "source": [
    "@app.route('/defaultfile', methods = ['GET', 'POST'])\n",
    "def uploader_default_file():\n",
    "    fpath = os.path.join(\"default\", \"test.csv\")\n",
    "    uploadFileAndPredict(fpath)\n",
    "    with open(fpath) as file:\n",
    "        allRead = csv.reader(file, delimiter=',')\n",
    "        lineCount = 0\n",
    "        for row in allRead:\n",
    "            if lineCount==0:\n",
    "                lineCount=lineCount+1\n",
    "            else:\n",
    "                lineCount=lineCount+1\n",
    "                dropdown_list_2.append((row[0]))\n",
    "    return render_template('Result.html',  dropdown_list_2=dropdown_list_2)\n",
    "\n"
   ]
  },
  {
   "cell_type": "code",
   "execution_count": 12,
   "metadata": {},
   "outputs": [],
   "source": [
    "@app.route('/check_default/<string:dropdown_2>',methods=['POST','GET'])\n",
    "def specific_default(dropdown_2):\n",
    "    x = dropdown_2\n",
    "    \n",
    "    x = search_default(x)\n",
    "    key  = x[0]\n",
    "    Male = x[1]\n",
    "    Age = x[2]\n",
    "    Married  = x[3]\n",
    "    Debt = x[4]\n",
    "    BankCustomer  = x[5]\n",
    "    EducationLevel  = x[6]\n",
    "    Ethnicity = x[7]\n",
    "    YearsEmployed  = x[8]\n",
    "    PriorDefault = x[9]\n",
    "    Employed = x[10]\n",
    "    CreditScore = x[11]\n",
    "    Income = x[15]    \n",
    "    x = x[16]\n",
    "    pred= float(x)*100\n",
    "    values = [pred]\n",
    "    x = float(x)*100\n",
    "    x = round(x,2)\n",
    "    \n",
    "    return render_template('Chart.html', key=key, \n",
    "                           Male=Male, Age=Age, Married=Married, Debt=Debt, \n",
    "                           BankCustomer=BankCustomer, EducationLevel=EducationLevel, Ethnicity=Ethnicity,\n",
    "                           YearsEmployed=YearsEmployed, PriorDefault=PriorDefault, \n",
    "                           Employed=Employed, CreditScore = CreditScore,\n",
    "                           Income = Income, values = values,pred=x)"
   ]
  },
  {
   "cell_type": "code",
   "execution_count": 13,
   "metadata": {},
   "outputs": [],
   "source": [
    "def search_default(cid):\n",
    "    fpathr = os.path.join(\"default\", \"output.csv\")\n",
    "    with open(fpathr) as file:\n",
    "        allRead = csv.reader(file, delimiter=',')\n",
    "        for row in allRead:\n",
    "            if row[0]==cid:\n",
    "                return row"
   ]
  },
  {
   "cell_type": "code",
   "execution_count": null,
   "metadata": {},
   "outputs": [
    {
     "name": "stdout",
     "output_type": "stream",
     "text": [
      " * Serving Flask app \"__main__\" (lazy loading)\n",
      " * Environment: production\n",
      "   WARNING: This is a development server. Do not use it in a production deployment.\n",
      "   Use a production WSGI server instead.\n",
      " * Debug mode: off\n"
     ]
    },
    {
     "name": "stderr",
     "output_type": "stream",
     "text": [
      "WARNING: Logging before flag parsing goes to stderr.\n",
      "I1012 13:46:51.095193 140348450322176 _internal.py:122]  * Running on http://127.0.0.1:5000/ (Press CTRL+C to quit)\n",
      "W1012 13:47:24.375957 140347231078144 deprecation_wrapper.py:119] From /home/redwuie/miniconda3/envs/py3.7.3_env/lib/python3.7/site-packages/keras/backend/tensorflow_backend.py:95: The name tf.reset_default_graph is deprecated. Please use tf.compat.v1.reset_default_graph instead.\n",
      "\n",
      "W1012 13:47:24.377744 140347231078144 deprecation_wrapper.py:119] From /home/redwuie/miniconda3/envs/py3.7.3_env/lib/python3.7/site-packages/keras/backend/tensorflow_backend.py:98: The name tf.placeholder_with_default is deprecated. Please use tf.compat.v1.placeholder_with_default instead.\n",
      "\n"
     ]
    },
    {
     "name": "stdout",
     "output_type": "stream",
     "text": [
      "test.csv\n"
     ]
    },
    {
     "name": "stderr",
     "output_type": "stream",
     "text": [
      "W1012 13:47:25.228101 140347231078144 deprecation_wrapper.py:119] From /home/redwuie/miniconda3/envs/py3.7.3_env/lib/python3.7/site-packages/keras/backend/tensorflow_backend.py:102: The name tf.get_default_graph is deprecated. Please use tf.compat.v1.get_default_graph instead.\n",
      "\n",
      "I1012 13:47:27.084896 140347231078144 _internal.py:122] 127.0.0.1 - - [12/Oct/2019 13:47:27] \"\u001b[37mPOST /uploader HTTP/1.1\u001b[0m\" 200 -\n",
      "I1012 13:48:34.429497 140347231078144 _internal.py:122] 127.0.0.1 - - [12/Oct/2019 13:48:34] \"\u001b[37mGET / HTTP/1.1\u001b[0m\" 200 -\n",
      "I1012 13:49:29.987305 140347231078144 _internal.py:122] 127.0.0.1 - - [12/Oct/2019 13:49:29] \"\u001b[37mPOST /uploader HTTP/1.1\u001b[0m\" 200 -\n"
     ]
    },
    {
     "name": "stdout",
     "output_type": "stream",
     "text": [
      "test.csv\n"
     ]
    },
    {
     "name": "stderr",
     "output_type": "stream",
     "text": [
      "I1012 13:50:16.881827 140347231078144 _internal.py:122] 127.0.0.1 - - [12/Oct/2019 13:50:16] \"\u001b[37mGET /check_default/33 HTTP/1.1\u001b[0m\" 200 -\n",
      "I1012 16:01:36.975998 140347231078144 _internal.py:122] 127.0.0.1 - - [12/Oct/2019 16:01:36] \"\u001b[37mGET / HTTP/1.1\u001b[0m\" 200 -\n",
      "I1012 16:01:41.831030 140347231078144 _internal.py:122] 127.0.0.1 - - [12/Oct/2019 16:01:41] \"\u001b[33mGET /favicon.ico HTTP/1.1\u001b[0m\" 404 -\n",
      "I1012 16:17:07.407591 140347210483456 _internal.py:122] 127.0.0.1 - - [12/Oct/2019 16:17:07] \"\u001b[37mGET /check_default/33 HTTP/1.1\u001b[0m\" 200 -\n",
      "I1012 16:17:08.044367 140347193698048 _internal.py:122] 127.0.0.1 - - [12/Oct/2019 16:17:08] \"\u001b[36mGET /static/js/Chart.min.js HTTP/1.1\u001b[0m\" 304 -\n",
      "I1012 16:17:08.047583 140346847655680 _internal.py:122] 127.0.0.1 - - [12/Oct/2019 16:17:08] \"\u001b[36mGET /static/js/RGraph.common.annotate.js HTTP/1.1\u001b[0m\" 304 -\n",
      "I1012 16:17:08.050226 140346839262976 _internal.py:122] 127.0.0.1 - - [12/Oct/2019 16:17:08] \"\u001b[36mGET /static/js/RGraph.bar.js HTTP/1.1\u001b[0m\" 304 -\n",
      "I1012 16:17:08.054232 140347202090752 _internal.py:122] 127.0.0.1 - - [12/Oct/2019 16:17:08] \"\u001b[36mGET /static/js/RGraph.common.dynamic.js HTTP/1.1\u001b[0m\" 304 -\n",
      "I1012 16:17:08.056905 140347231078144 _internal.py:122] 127.0.0.1 - - [12/Oct/2019 16:17:08] \"\u001b[36mGET /static/js/RGraph.common.core.js HTTP/1.1\u001b[0m\" 304 -\n",
      "I1012 16:17:08.057932 140347210483456 _internal.py:122] 127.0.0.1 - - [12/Oct/2019 16:17:08] \"\u001b[36mGET /static/js/RGraph.common.context.js HTTP/1.1\u001b[0m\" 304 -\n",
      "I1012 16:17:08.081071 140347193698048 _internal.py:122] 127.0.0.1 - - [12/Oct/2019 16:17:08] \"\u001b[36mGET /static/js/RGraph.meter.js HTTP/1.1\u001b[0m\" 304 -\n",
      "I1012 16:18:01.190348 140347193698048 _internal.py:122] 127.0.0.1 - - [12/Oct/2019 16:18:01] \"\u001b[37mGET / HTTP/1.1\u001b[0m\" 200 -\n",
      "I1012 16:18:11.012991 140347193698048 _internal.py:122] 127.0.0.1 - - [12/Oct/2019 16:18:11] \"\u001b[37mPOST /defaultfile HTTP/1.1\u001b[0m\" 200 -\n",
      "I1012 16:18:16.476324 140347193698048 _internal.py:122] 127.0.0.1 - - [12/Oct/2019 16:18:16] \"\u001b[37mGET /check_default/515 HTTP/1.1\u001b[0m\" 200 -\n"
     ]
    },
    {
     "name": "stdout",
     "output_type": "stream",
     "text": [
      "34\n",
      "27\n",
      "[99.95810125534265, 99.71386765470204, 98.79684309484983, 98.06953457003364, 97.35364296585225, 96.34463676325721, 96.1834165816112, 95.44019902811979, 94.83076073169144, 94.7862207369484, 94.16669134053288, 92.3203562525762, 91.66834404457408, 91.13927805268612, 90.48102637632032, 90.44836379048148, 87.83367981418209, 87.63909584507238, 86.707304806014, 85.45338025409819, 83.3815684840822, 81.30211894930449, 74.98905851526655, 70.93538527404844, 70.22111019855343, 60.01734967415866, 32.16703647812104]\n",
      "['0.9995810125534266', '0.9971386765470204', '0.9879684309484985', '0.9806953457003363', '0.9735364296585223', '0.9634463676325722', '0.961834165816112', '0.954401990281198', '0.9483076073169145', '0.9478622073694841', '0.9416669134053289', '0.923203562525762', '0.9166834404457408', '0.9113927805268613', '0.9048102637632031', '0.9044836379048149', '0.8783367981418209', '0.8763909584507238', '0.86707304806014', '0.8545338025409819', '0.8338156848408219', '0.8130211894930448', '0.7498905851526655', '0.7093538527404845', '0.7022111019855343', '0.6001734967415866', '0.32167036478121036']\n"
     ]
    },
    {
     "name": "stderr",
     "output_type": "stream",
     "text": [
      "I1012 16:18:24.754762 140347193698048 _internal.py:122] 127.0.0.1 - - [12/Oct/2019 16:18:24] \"\u001b[37mPOST /input_percent HTTP/1.1\u001b[0m\" 200 -\n",
      "I1012 16:18:24.840492 140347193698048 _internal.py:122] 127.0.0.1 - - [12/Oct/2019 16:18:24] \"\u001b[37mGET /static/js/RGraph.common.tooltips.js HTTP/1.1\u001b[0m\" 200 -\n",
      "I1012 16:18:24.849638 140346847655680 _internal.py:122] 127.0.0.1 - - [12/Oct/2019 16:18:24] \"\u001b[37mGET /static/js/RGraph.hbar.js HTTP/1.1\u001b[0m\" 200 -\n",
      "I1012 16:18:24.851135 140347210483456 _internal.py:122] 127.0.0.1 - - [12/Oct/2019 16:18:24] \"\u001b[37mGET /static/js/RGraph.common.key.js HTTP/1.1\u001b[0m\" 200 -\n",
      "I1012 16:18:33.200440 140346847655680 _internal.py:122] 127.0.0.1 - - [12/Oct/2019 16:18:33] \"\u001b[37mGET /check/9 HTTP/1.1\u001b[0m\" 200 -\n",
      "I1012 17:01:45.249345 140346847655680 _internal.py:122] 127.0.0.1 - - [12/Oct/2019 17:01:45] \"\u001b[37mGET / HTTP/1.1\u001b[0m\" 200 -\n",
      "I1012 17:01:46.227098 140346847655680 _internal.py:122] 127.0.0.1 - - [12/Oct/2019 17:01:46] \"\u001b[33mGET /favicon.ico HTTP/1.1\u001b[0m\" 404 -\n"
     ]
    }
   ],
   "source": [
    "if __name__ == \"__main__\":\n",
    "    app.run()\n",
    "    "
   ]
  },
  {
   "cell_type": "code",
   "execution_count": null,
   "metadata": {},
   "outputs": [],
   "source": []
  },
  {
   "cell_type": "code",
   "execution_count": null,
   "metadata": {},
   "outputs": [],
   "source": []
  },
  {
   "cell_type": "code",
   "execution_count": null,
   "metadata": {},
   "outputs": [],
   "source": []
  },
  {
   "cell_type": "code",
   "execution_count": null,
   "metadata": {},
   "outputs": [],
   "source": []
  },
  {
   "cell_type": "code",
   "execution_count": null,
   "metadata": {},
   "outputs": [],
   "source": []
  },
  {
   "cell_type": "code",
   "execution_count": null,
   "metadata": {},
   "outputs": [],
   "source": []
  }
 ],
 "metadata": {
  "kernelspec": {
   "display_name": "Python 3",
   "language": "python",
   "name": "python3"
  },
  "language_info": {
   "codemirror_mode": {
    "name": "ipython",
    "version": 3
   },
   "file_extension": ".py",
   "mimetype": "text/x-python",
   "name": "python",
   "nbconvert_exporter": "python",
   "pygments_lexer": "ipython3",
   "version": "3.7.3"
  }
 },
 "nbformat": 4,
 "nbformat_minor": 2
}
